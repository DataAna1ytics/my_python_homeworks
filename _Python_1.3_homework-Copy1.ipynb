{
 "cells": [
  {
   "cell_type": "markdown",
   "metadata": {},
   "source": [
    "# Домашнее задание 1.3\n",
    "\n",
    "🧔👩‍🦰👨‍🦳  В компаниях много разных заказчиков данных: сотрудники разного уровня, с разными доступами, из разных департаментов. Чтобы каждый получал нужные данные вовремя, нужно настраивать систему автоматической отчетности. В этом домашнем задании разберемся, как к такой задаче можно подойти с помощью Python. \n",
    "\n",
    "## Что нужно сделать?\n",
    "\n",
    "Необходимо настроить в компании репортинг ключевых показателей бизнеса таким образом, чтобы каждый сотрудник получал регулярный отчет только по тем метрикам, которые важны для его работы и доступны на его должности.\n",
    "\n",
    "Для начала изучим, какие данные нам доступны:"
   ]
  },
  {
   "cell_type": "code",
   "execution_count": 1,
   "metadata": {},
   "outputs": [],
   "source": [
    "staff = { #  словарь со списком сотрудников компании и их должностями\n",
    "    'Ирина':'Customer Support',\n",
    "    'Иван':'Customer Support',\n",
    "    'Дмитрий':'Marketing',\n",
    "    'Ольга':'CPO',\n",
    "    'Анастасия':'Sales',\n",
    "    'Александр':'Sales',\n",
    "}\n",
    "\n",
    "metrics = { #  словарь со списком ключевых показателей бизнеса, которые необходимы и доступны для каждой должности\n",
    "    'Customer Support': ['Retention', 'MAU',],\n",
    "    'Sales': ['New Users',],\n",
    "    'Marketing': ['New Orders',],\n",
    "    'CPO': ['Retention', 'MAU','New Users','New Orders', 'C1'] # как видите, директор по продукту следит за всеми метриками!  \n",
    "}\n",
    "\n",
    "\n",
    "data = { #  словарь с заранее подготовленными значениями метрик по месяцам, которые мы будем использовать в ежемесячных отчетах\n",
    "    '2020-01-01':{\n",
    "        'MAU':12300, # общее количество уникальных пользователей за месяц, которые воспользовались нашим сервисом\n",
    "        'Retention':0.88, # доля от общего количества пользователей прошлого месяца, которая вернулась в наш сервис в текущем месяце\n",
    "        'New Users':9012, # количество новых пользователей в нашем сервисе\n",
    "        'New Orders': 1404 # количество новых заказов от новых пользователей нашего сервиса\n",
    "    },\n",
    "    '2020-02-01':{'MAU':11432,'Retention':0.75, 'New Users':12011, 'New Orders':2443 },\n",
    "    '2020-03-01':{'MAU':13348,'Retention':0.89, 'New Users':8732, 'New Orders':1454 },\n",
    "    '2020-04-01':{'MAU':13400,'Retention':0.93, 'New Users':9342, 'New Orders':2235 },\n",
    "    '2020-05-01':{'MAU':13354,'Retention':0.79, 'New Users':11032, 'New Orders':4402 }\n",
    "}"
   ]
  },
  {
   "cell_type": "markdown",
   "metadata": {},
   "source": [
    "Далее мы разобьем эту объемную задачу на шаги, для каждого шага напишем свою функцию, а затем используем эти функции для получения итогового результата."
   ]
  },
  {
   "cell_type": "markdown",
   "metadata": {},
   "source": [
    "## Задание 1\n",
    "\n",
    "Напиши функцию, которая получает дату строкой в формате %d.%m.%Y (например, «31.12.2020») и возвращает тоже строкой, но в формате, который используется в словаре с данными метрик (то есть «2020-12-31»).\n"
   ]
  },
  {
   "cell_type": "code",
   "execution_count": 2,
   "metadata": {},
   "outputs": [
    {
     "name": "stdout",
     "output_type": "stream",
     "text": [
      "2020-12-31\n",
      "<class 'str'>\n"
     ]
    }
   ],
   "source": [
    "from datetime import datetime\n",
    "\n",
    "def date_conv (traditional_date):\n",
    "    traditional_date = datetime.strptime(traditional_date, '%d.%m.%Y')\n",
    "    dict_date = datetime.strftime(traditional_date, '%Y-%m-%d')\n",
    "    return dict_date\n",
    "\n",
    "\n",
    "traditional_date = '31.12.2020'\n",
    "dict_date = date_conv(traditional_date)\n",
    "print(dict_date)\n",
    "print(type(dict_date))"
   ]
  },
  {
   "cell_type": "markdown",
   "metadata": {},
   "source": [
    "## Задание 2\n",
    "\n",
    "Теперь напиши функцию, которая получает на вход дату строкой в формате %d.%m.%Y и отдает все значения метрик, которые были зафиксированы в этот день. Если за указанную дату показателей еще нет, то функция должна вернуть строку «Нет данных».\n"
   ]
  },
  {
   "cell_type": "code",
   "execution_count": 3,
   "metadata": {},
   "outputs": [
    {
     "name": "stdout",
     "output_type": "stream",
     "text": [
      "{'MAU': 11432, 'Retention': 0.75, 'New Users': 12011, 'New Orders': 2443}\n"
     ]
    }
   ],
   "source": [
    "# написанную функцию можно проверить, передав в аргумент дату 01.02.2020\n",
    "\n",
    "def get_metrics(day_date):\n",
    "    day_date = datetime.strptime(day_date, '%d.%m.%Y')\n",
    "    our_date = datetime.strftime(day_date, '%Y-%m-%d')\n",
    "    daily_metrics = data.get(our_date,'Нет данных')      \n",
    "    return daily_metrics\n",
    "        \n",
    "\n",
    "day_date = '01.02.2020'\n",
    "daily_metrics = get_metrics(day_date)\n",
    "print(daily_metrics)\n",
    "\n",
    "\n",
    "\n",
    "\n"
   ]
  },
  {
   "cell_type": "markdown",
   "metadata": {},
   "source": [
    "## Задание 3\n",
    "\n",
    "Напиши функцию, которая получает на вход имя сотрудника и отдает набор метрик из словаря metrics, которые необходимы человеку на этой позиции. Значения метрик находить пока не нужно — это сделаем на следующем шаге."
   ]
  },
  {
   "cell_type": "code",
   "execution_count": 4,
   "metadata": {},
   "outputs": [
    {
     "name": "stdout",
     "output_type": "stream",
     "text": [
      "{'Ольга': ['Retention', 'MAU', 'New Users', 'New Orders', 'C1']}\n"
     ]
    }
   ],
   "source": [
    "# написанную функцию можно проверить, передав строкой в аргумент имя одного из сотрудников. Например, «Ольга»\n",
    "\n",
    "def personal_metrics(name):\n",
    "    personal_metrics_ind = dict()\n",
    "    name_position = staff.get(name, 'Сотрудник отсутствует')\n",
    "    personal_metrics_ind[name] = metrics.get(name_position, 'Доступ отсутствует')\n",
    "    return personal_metrics_ind\n",
    "\n",
    "name = 'Ольга'\n",
    "personal_metrics_ind = personal_metrics(name)\n",
    "print(personal_metrics_ind)\n",
    "\n",
    "\n",
    "\n"
   ]
  },
  {
   "cell_type": "markdown",
   "metadata": {},
   "source": [
    "## Задание 4\n",
    "\n",
    "Напиши функцию, которая получает на вход имя и дату и отдает все значения метрик за указанный день, которые необходимы человеку на его позиции.\n",
    "\n",
    "\n",
    "❗️Обрати внимание, что наш CPO (Chief Product Officer, он же директор по продукту) хочет получать метрику C1 (конверсия в первую покупку). Ее нет в нашем словаре, но ее можно очень легко вычислить вот так: __New Orders / New Users__\n",
    "\n"
   ]
  },
  {
   "cell_type": "code",
   "execution_count": 5,
   "metadata": {},
   "outputs": [
    {
     "name": "stdout",
     "output_type": "stream",
     "text": [
      "{'MAU': 11432, 'C1': 0.2033968861876613, 'Retention': 0.75, 'New Users': 12011, 'New Orders': 2443}\n",
      "Добрый день,Ольга! Для тебя есть интересные данные за 01.02.2020:{'MAU': 11432, 'C1': 0.2033968861876613, 'Retention': 0.75, 'New Users': 12011, 'New Orders': 2443}\n"
     ]
    }
   ],
   "source": [
    "# написанную функцию можно проверить, передав в аргументы имя одного из сотрудников и дату. Например, «Ольга» и «01.02.2020»\n",
    "\n",
    "\n",
    "def daily_personal_metrics (name,date):\n",
    "    daily_emp_metrics = personal_metrics(name)\n",
    "    daily_emp_metrics_date = get_metrics(date)\n",
    "    daily_personal_metrics_values = dict()\n",
    "    for key, value in daily_emp_metrics_date.items():\n",
    "        if key in daily_emp_metrics[name]:\n",
    "            daily_personal_metrics_values[key] = value\n",
    "            if 'C1' in daily_emp_metrics[name]:\n",
    "                daily_personal_metrics_values['C1'] = daily_emp_metrics_date.get('New Orders')/daily_emp_metrics_date.get('New Users')\n",
    "    return daily_personal_metrics_values\n",
    "\n",
    "\n",
    "name = 'Ольга'\n",
    "date = '01.02.2020'\n",
    "daily_personal_metrics_values = daily_personal_metrics(name,date)\n",
    "print(daily_personal_metrics_values)\n",
    "\n",
    "print(\"\"\"Добрый день,{0}! Для тебя есть интересные данные за {1}:{2}\"\"\".format(name, date, daily_personal_metrics_values))\n",
    "\n",
    "        "
   ]
  },
  {
   "cell_type": "markdown",
   "metadata": {},
   "source": [
    "## Задание 5\n",
    "\n",
    "Теперь давай приведем выгрузку данных к красивому формату:\n",
    "\n",
    "__«Добрый день, {имя}! Для тебя есть интересные данные за {дата}: {метрики}»__"
   ]
  },
  {
   "cell_type": "code",
   "execution_count": 8,
   "metadata": {},
   "outputs": [
    {
     "ename": "SyntaxError",
     "evalue": "unexpected EOF while parsing (<ipython-input-8-503ea714b7a4>, line 8)",
     "output_type": "error",
     "traceback": [
      "\u001b[1;36m  File \u001b[1;32m\"<ipython-input-8-503ea714b7a4>\"\u001b[1;36m, line \u001b[1;32m8\u001b[0m\n\u001b[1;33m    \u001b[0m\n\u001b[1;37m    ^\u001b[0m\n\u001b[1;31mSyntaxError\u001b[0m\u001b[1;31m:\u001b[0m unexpected EOF while parsing\n"
     ]
    }
   ],
   "source": [
    "\n",
    "#name = 'Ольга'\n",
    "#date = '01.02.2020'\n",
    "#daily_personal_metrics_values = daily_personal_metrics (name,date)\n",
    "#print(\"\"\"Добрый день,{0}! Для тебя есть интересные данные за {1}:{2}\"\"\".format(name, date, daily_personal_metrics_values)\n",
    "\n",
    "# Почему-то если писать в этом блоке, выдает ошибку. Продублировал код задания в блоке \"Задания 4\" \n",
    "\n"
   ]
  },
  {
   "cell_type": "markdown",
   "metadata": {},
   "source": [
    "## Задание 6 со звездочкой ⭐️\n",
    "\n",
    "Мы научились собирать и красиво оформлять отчет о ключевых показателях. Теперь давай настроим автоматическую отправку на почту, чтобы нашим коллегам не пришлось лишний раз лезть в отчет.\n",
    "\n",
    "Отправка производится с помощью специального механизма, который называется вебхук. Мы настроили его для отправки имейлов. Отправь данные себе на почту!"
   ]
  },
  {
   "cell_type": "code",
   "execution_count": 18,
   "metadata": {},
   "outputs": [
    {
     "data": {
      "text/plain": [
       "<Response [200]>"
      ]
     },
     "execution_count": 18,
     "metadata": {},
     "output_type": "execute_result"
    }
   ],
   "source": [
    "import requests  # тебе поможет библиотека requests\n",
    "\n",
    "message = 'Привет! Пишу тебе из питона :)'\n",
    "\n",
    "params = {\n",
    "    'email': 'ramon.zozulya@gmail.com', # укажи тут имейлы, на которые хочешь получить отчет\n",
    "    'message': message\n",
    "}\n",
    "\n",
    "requests.get('https://hooks.zapier.com/hooks/catch/4053314/opq51jb/', params)"
   ]
  },
  {
   "cell_type": "markdown",
   "metadata": {},
   "source": [
    "# 🎉🎉🎉 Поздравляем, ты великолепен! "
   ]
  }
 ],
 "metadata": {
  "kernelspec": {
   "display_name": "Python 3",
   "language": "python",
   "name": "python3"
  },
  "language_info": {
   "codemirror_mode": {
    "name": "ipython",
    "version": 3
   },
   "file_extension": ".py",
   "mimetype": "text/x-python",
   "name": "python",
   "nbconvert_exporter": "python",
   "pygments_lexer": "ipython3",
   "version": "3.8.5"
  }
 },
 "nbformat": 4,
 "nbformat_minor": 4
}
