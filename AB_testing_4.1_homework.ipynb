{
 "cells": [
  {
   "cell_type": "markdown",
   "metadata": {
    "id": "ztPv6Kb-ILDp"
   },
   "source": [
    "# Домашнее задание 4.1\n",
    "\n",
    "# 🥨👨🏻‍🍳🥐🥖\n",
    "\n",
    "Тест с картинками оказался в итоге успешным, и теперь мы хотим усилить визуальный контент. Есть идея, что если мы сделаем не одну картинку, а еще и добавим видео производства наших изделий, то пользователь будет принимать решение о покупке охотнее и быстрее, и конверсия в заказ вырастет. \n",
    "\n",
    "__Продакт вернул нам такой дизайн эксперимента:__\n",
    "\n",
    "*1. `Бизнес-проблема:`* мы считаем, что конверсии из визита в покупку в нашем магазине недостаточно высоки. Мы посмотрели на страницы конкурентов, и поняли, что у нас есть возможность увеличить объем продаж, если мы еще немного изменим дизайн страницы с каталогом продукции. \n",
    "\n",
    "*2. `Гипотеза:`* предполагается, что добавление видео с процессом приготовления вкусностей мотивирует к их покупке и позволит добиться двух эффектов:\n",
    "   * повышение конверсии из визита в оплату (больше людей захотят купить нашу продукцию)\n",
    "   * как минимум не снижение среднего чека покупки (в идеале — увеличение)\n",
    "    \n",
    "*3. `Ожидаемые действия пользователей:`* мы ожидаем, что, увидев видео с процессом приготовления вкусностей вместе с описанием продукции, больше людей захотят сделать покупку, а возможно — в среднем будут покупать больше продукции в одном заказе.\n",
    "\n",
    "*4. `Эксперимент будет считаться успешным, если:`*\n",
    "   * конверсия из визита в покупку с окном в 7 дней повысится\n",
    "   * средний чек покупки не снизится\n",
    "\n",
    "\n",
    "## Что нужно сделать?\n",
    "\n",
    "Проанализировать данные нового теста и дать свои комментарии о его успешности. Можно ли выкатывать изменение на всех пользователей?\n",
    "\n",
    "1. Выбрать окно конверсии\n",
    "2. Исследовать распределение пользователей по группам по основным сегментам\n",
    "3. Оценить статистическую значимость в изменении конверсии с помощью критерия хи-квадрат\n",
    "4. Вычислить мощность теста\n",
    "5. Использовать бутстрап для оценки влияния теста на средний чек\n",
    "6. Сделать вывод по результатам проведенного теста "
   ]
  },
  {
   "cell_type": "markdown",
   "metadata": {},
   "source": [
    "## Задание 1. Выбери окно конверсии, используя исторические данные \n",
    "\n",
    "**1. Прочитай файл investigate_window.csv.**\n",
    "   - Запиши даннные в переменную `historical_data`\n",
    "    \n",
    "   - Отправь безымянную колонку с нумерацией в индекс с помощью аргумента функции `read_csv()`.\n",
    "   \n",
    "   - Проверь, какой тип данных в каждой колонке, переведи столбцы с датами в формат даты. "
   ]
  },
  {
   "cell_type": "code",
   "execution_count": 1,
   "metadata": {},
   "outputs": [],
   "source": [
    "import pandas as pd\n"
   ]
  },
  {
   "cell_type": "code",
   "execution_count": 2,
   "metadata": {},
   "outputs": [],
   "source": [
    "historical_data = pd.read_csv('investigate_window.csv')"
   ]
  },
  {
   "cell_type": "code",
   "execution_count": 3,
   "metadata": {},
   "outputs": [],
   "source": [
    "historical_data['order_completed_at'] = pd.to_datetime(historical_data['order_completed_at']) # Перевел даты в datetime\n",
    "historical_data['main_page_viewed_at'] = pd.to_datetime(historical_data['main_page_viewed_at'])"
   ]
  },
  {
   "cell_type": "code",
   "execution_count": 4,
   "metadata": {},
   "outputs": [
    {
     "data": {
      "text/html": [
       "<div>\n",
       "<style scoped>\n",
       "    .dataframe tbody tr th:only-of-type {\n",
       "        vertical-align: middle;\n",
       "    }\n",
       "\n",
       "    .dataframe tbody tr th {\n",
       "        vertical-align: top;\n",
       "    }\n",
       "\n",
       "    .dataframe thead th {\n",
       "        text-align: right;\n",
       "    }\n",
       "</style>\n",
       "<table border=\"1\" class=\"dataframe\">\n",
       "  <thead>\n",
       "    <tr style=\"text-align: right;\">\n",
       "      <th></th>\n",
       "      <th>Unnamed: 0</th>\n",
       "      <th>user_id</th>\n",
       "      <th>main_page_viewed_at</th>\n",
       "      <th>order_completed_at</th>\n",
       "      <th>time_to_order</th>\n",
       "    </tr>\n",
       "  </thead>\n",
       "  <tbody>\n",
       "    <tr>\n",
       "      <th>0</th>\n",
       "      <td>0</td>\n",
       "      <td>959238</td>\n",
       "      <td>2020-11-20 23:55:02.759000+00:00</td>\n",
       "      <td>2020-11-30 02:22:32.759000+00:00</td>\n",
       "      <td>9.102431</td>\n",
       "    </tr>\n",
       "    <tr>\n",
       "      <th>1</th>\n",
       "      <td>1</td>\n",
       "      <td>337366</td>\n",
       "      <td>2020-12-05 23:41:42.244000+00:00</td>\n",
       "      <td>2020-12-12 22:25:52.244000+00:00</td>\n",
       "      <td>6.947338</td>\n",
       "    </tr>\n",
       "    <tr>\n",
       "      <th>2</th>\n",
       "      <td>2</td>\n",
       "      <td>259956</td>\n",
       "      <td>2020-11-20 23:33:53.269000+00:00</td>\n",
       "      <td>2020-11-25 13:08:03.269000+00:00</td>\n",
       "      <td>4.565394</td>\n",
       "    </tr>\n",
       "    <tr>\n",
       "      <th>3</th>\n",
       "      <td>3</td>\n",
       "      <td>534280</td>\n",
       "      <td>2020-11-28 23:44:56.556000+00:00</td>\n",
       "      <td>2020-12-05 10:14:06.556000+00:00</td>\n",
       "      <td>6.436921</td>\n",
       "    </tr>\n",
       "    <tr>\n",
       "      <th>4</th>\n",
       "      <td>4</td>\n",
       "      <td>795121</td>\n",
       "      <td>2020-11-18 23:59:56.236000+00:00</td>\n",
       "      <td>2020-11-27 02:38:16.236000+00:00</td>\n",
       "      <td>8.109954</td>\n",
       "    </tr>\n",
       "  </tbody>\n",
       "</table>\n",
       "</div>"
      ],
      "text/plain": [
       "   Unnamed: 0  user_id              main_page_viewed_at  \\\n",
       "0           0   959238 2020-11-20 23:55:02.759000+00:00   \n",
       "1           1   337366 2020-12-05 23:41:42.244000+00:00   \n",
       "2           2   259956 2020-11-20 23:33:53.269000+00:00   \n",
       "3           3   534280 2020-11-28 23:44:56.556000+00:00   \n",
       "4           4   795121 2020-11-18 23:59:56.236000+00:00   \n",
       "\n",
       "                order_completed_at  time_to_order  \n",
       "0 2020-11-30 02:22:32.759000+00:00       9.102431  \n",
       "1 2020-12-12 22:25:52.244000+00:00       6.947338  \n",
       "2 2020-11-25 13:08:03.269000+00:00       4.565394  \n",
       "3 2020-12-05 10:14:06.556000+00:00       6.436921  \n",
       "4 2020-11-27 02:38:16.236000+00:00       8.109954  "
      ]
     },
     "execution_count": 4,
     "metadata": {},
     "output_type": "execute_result"
    }
   ],
   "source": [
    "historical_data.head()"
   ]
  },
  {
   "cell_type": "code",
   "execution_count": 5,
   "metadata": {},
   "outputs": [
    {
     "data": {
      "text/plain": [
       "Unnamed: 0                           int64\n",
       "user_id                              int64\n",
       "main_page_viewed_at    datetime64[ns, UTC]\n",
       "order_completed_at     datetime64[ns, UTC]\n",
       "time_to_order                      float64\n",
       "dtype: object"
      ]
     },
     "execution_count": 5,
     "metadata": {},
     "output_type": "execute_result"
    }
   ],
   "source": [
    "historical_data.dtypes"
   ]
  },
  {
   "cell_type": "markdown",
   "metadata": {},
   "source": [
    "**2. Вычисли 95, 90 и 85 перцентили для наших данных с помощью колонки time_to_order.**\n",
    "   - Импортируй библиотеку `NumPy` и используй функцию перцентиля из нее.\n",
    "   - Какой перцентиль соответствует недельному окну конверсии? \n",
    "   - Запиши это значение в отдельную переменную `perc_X`, где Х — это выбранный тобой процент, а значение переменной – значение перцентиля, т. е. количество дней, которое избирается в качестве окна конверсии. \n",
    "   - Округли значение до 1 знака после запятой."
   ]
  },
  {
   "cell_type": "code",
   "execution_count": 6,
   "metadata": {},
   "outputs": [],
   "source": [
    "import numpy as np"
   ]
  },
  {
   "cell_type": "code",
   "execution_count": 7,
   "metadata": {},
   "outputs": [
    {
     "data": {
      "text/plain": [
       "2.9"
      ]
     },
     "execution_count": 7,
     "metadata": {},
     "output_type": "execute_result"
    }
   ],
   "source": [
    "perc_90 = round(np.percentile(historical_data['time_to_order'], 90), 1)\n",
    "perc_90"
   ]
  },
  {
   "cell_type": "markdown",
   "metadata": {},
   "source": [
    "**3. Построй гистограмму распределения времени между первым заходом на сайт и покупкой.** \n",
    "   - Передай функции графика в аргумент данные о времени конверсии\n",
    "   - Назови график и оси\n",
    "   - Вертикальной пунктирной линией отметь значение выбранного тобой перцентиля. \n",
    "   - Выведи значение перцентиля в легенду. \n",
    "*Можешь использовать `seaborn` или `matplotlib`, как тебе удобнее.*"
   ]
  },
  {
   "cell_type": "code",
   "execution_count": 8,
   "metadata": {},
   "outputs": [],
   "source": [
    "import seaborn as sns \n",
    "import matplotlib.pyplot as plt"
   ]
  },
  {
   "cell_type": "code",
   "execution_count": 58,
   "metadata": {},
   "outputs": [
    {
     "data": {
      "image/png": "[encoded data removed]",
      "text/plain": [
       "<Figure size 1224x648 with 1 Axes>"
      ]
     },
     "metadata": {
      "needs_background": "light"
     },
     "output_type": "display_data"
    }
   ],
   "source": [
    "# напиши здесь код\n",
    "plt.figure(figsize=(17,9))\n",
    "\n",
    "plt.hist(historical_data['time_to_order'], bins = 20)\n",
    "\n",
    "plt.axvline(perc_90, \n",
    "            color='k', \n",
    "            linestyle='--', \n",
    "            linewidth=2, \n",
    "            label = ('85-й процентиль - {0} дней'.format(perc_90)))\n",
    "\n",
    "plt.title('Время между первым заходом на сайт и покупкой')\n",
    "plt.xlabel('Количество дней')\n",
    "plt.ylabel('Количество пользователей')\n",
    "\n",
    "plt.legend()\n",
    "plt.show()"
   ]
  },
  {
   "cell_type": "markdown",
   "metadata": {},
   "source": [
    "## Задание 2. Исследуй распределение пользователей по группам по основным сегментам \n",
    "\n",
    "**1. Прочитай файл bakery_ab_test.csv.**\n",
    "   - Проверь, импортированы ли нужные тебе библиотеки.\n",
    "   - Запиши данные в переменную `data`. \n",
    "   - Назначь индекс аналогично первому заданию."
   ]
  },
  {
   "cell_type": "code",
   "execution_count": 9,
   "metadata": {},
   "outputs": [
    {
     "data": {
      "text/html": [
       "<div>\n",
       "<style scoped>\n",
       "    .dataframe tbody tr th:only-of-type {\n",
       "        vertical-align: middle;\n",
       "    }\n",
       "\n",
       "    .dataframe tbody tr th {\n",
       "        vertical-align: top;\n",
       "    }\n",
       "\n",
       "    .dataframe thead th {\n",
       "        text-align: right;\n",
       "    }\n",
       "</style>\n",
       "<table border=\"1\" class=\"dataframe\">\n",
       "  <thead>\n",
       "    <tr style=\"text-align: right;\">\n",
       "      <th></th>\n",
       "      <th>user_id</th>\n",
       "      <th>test_group</th>\n",
       "      <th>purchase_amount</th>\n",
       "      <th>geo_group</th>\n",
       "      <th>acquisition_channel</th>\n",
       "      <th>within_window</th>\n",
       "      <th>platform</th>\n",
       "    </tr>\n",
       "  </thead>\n",
       "  <tbody>\n",
       "    <tr>\n",
       "      <th>1</th>\n",
       "      <td>3738</td>\n",
       "      <td>test</td>\n",
       "      <td>306.639511</td>\n",
       "      <td>regions</td>\n",
       "      <td>target_direct</td>\n",
       "      <td>1</td>\n",
       "      <td>pc</td>\n",
       "    </tr>\n",
       "    <tr>\n",
       "      <th>2</th>\n",
       "      <td>3755</td>\n",
       "      <td>control</td>\n",
       "      <td>NaN</td>\n",
       "      <td>regions</td>\n",
       "      <td>target_direct</td>\n",
       "      <td>0</td>\n",
       "      <td>pc</td>\n",
       "    </tr>\n",
       "    <tr>\n",
       "      <th>3</th>\n",
       "      <td>3772</td>\n",
       "      <td>test</td>\n",
       "      <td>NaN</td>\n",
       "      <td>regions</td>\n",
       "      <td>context_brand</td>\n",
       "      <td>0</td>\n",
       "      <td>mobile</td>\n",
       "    </tr>\n",
       "    <tr>\n",
       "      <th>4</th>\n",
       "      <td>3789</td>\n",
       "      <td>control</td>\n",
       "      <td>NaN</td>\n",
       "      <td>spb</td>\n",
       "      <td>target_direct</td>\n",
       "      <td>0</td>\n",
       "      <td>pc</td>\n",
       "    </tr>\n",
       "    <tr>\n",
       "      <th>5</th>\n",
       "      <td>3806</td>\n",
       "      <td>test</td>\n",
       "      <td>NaN</td>\n",
       "      <td>regions</td>\n",
       "      <td>social_media</td>\n",
       "      <td>0</td>\n",
       "      <td>pc</td>\n",
       "    </tr>\n",
       "    <tr>\n",
       "      <th>...</th>\n",
       "      <td>...</td>\n",
       "      <td>...</td>\n",
       "      <td>...</td>\n",
       "      <td>...</td>\n",
       "      <td>...</td>\n",
       "      <td>...</td>\n",
       "      <td>...</td>\n",
       "    </tr>\n",
       "    <tr>\n",
       "      <th>152995</th>\n",
       "      <td>2604636</td>\n",
       "      <td>test</td>\n",
       "      <td>NaN</td>\n",
       "      <td>regions</td>\n",
       "      <td>target_direct</td>\n",
       "      <td>0</td>\n",
       "      <td>pc</td>\n",
       "    </tr>\n",
       "    <tr>\n",
       "      <th>152996</th>\n",
       "      <td>2604653</td>\n",
       "      <td>control</td>\n",
       "      <td>5236.818309</td>\n",
       "      <td>regions</td>\n",
       "      <td>organic</td>\n",
       "      <td>1</td>\n",
       "      <td>mobile</td>\n",
       "    </tr>\n",
       "    <tr>\n",
       "      <th>152997</th>\n",
       "      <td>2604670</td>\n",
       "      <td>control</td>\n",
       "      <td>NaN</td>\n",
       "      <td>regions</td>\n",
       "      <td>target_direct</td>\n",
       "      <td>0</td>\n",
       "      <td>pc</td>\n",
       "    </tr>\n",
       "    <tr>\n",
       "      <th>152998</th>\n",
       "      <td>2604687</td>\n",
       "      <td>control</td>\n",
       "      <td>101.783032</td>\n",
       "      <td>regions</td>\n",
       "      <td>target_direct</td>\n",
       "      <td>1</td>\n",
       "      <td>pc</td>\n",
       "    </tr>\n",
       "    <tr>\n",
       "      <th>152999</th>\n",
       "      <td>2604704</td>\n",
       "      <td>test</td>\n",
       "      <td>NaN</td>\n",
       "      <td>msk</td>\n",
       "      <td>social_media</td>\n",
       "      <td>0</td>\n",
       "      <td>pc</td>\n",
       "    </tr>\n",
       "  </tbody>\n",
       "</table>\n",
       "<p>150483 rows × 7 columns</p>\n",
       "</div>"
      ],
      "text/plain": [
       "        user_id test_group  purchase_amount geo_group acquisition_channel  \\\n",
       "1          3738       test       306.639511   regions       target_direct   \n",
       "2          3755    control              NaN   regions       target_direct   \n",
       "3          3772       test              NaN   regions       context_brand   \n",
       "4          3789    control              NaN       spb       target_direct   \n",
       "5          3806       test              NaN   regions        social_media   \n",
       "...         ...        ...              ...       ...                 ...   \n",
       "152995  2604636       test              NaN   regions       target_direct   \n",
       "152996  2604653    control      5236.818309   regions             organic   \n",
       "152997  2604670    control              NaN   regions       target_direct   \n",
       "152998  2604687    control       101.783032   regions       target_direct   \n",
       "152999  2604704       test              NaN       msk        social_media   \n",
       "\n",
       "        within_window platform  \n",
       "1                   1       pc  \n",
       "2                   0       pc  \n",
       "3                   0   mobile  \n",
       "4                   0       pc  \n",
       "5                   0       pc  \n",
       "...               ...      ...  \n",
       "152995              0       pc  \n",
       "152996              1   mobile  \n",
       "152997              0       pc  \n",
       "152998              1       pc  \n",
       "152999              0       pc  \n",
       "\n",
       "[150483 rows x 7 columns]"
      ]
     },
     "execution_count": 9,
     "metadata": {},
     "output_type": "execute_result"
    }
   ],
   "source": [
    "# напиши здесь код\n",
    "data = pd.read_csv('bakery_ab_test (1).csv', index_col = 0)\n",
    "data\n"
   ]
  },
  {
   "cell_type": "markdown",
   "metadata": {},
   "source": [
    "**2. Напиши функцию plot_segment_distribution, чтобы проверить распределение пользователей по сегментам внутри каждой группы.**\n",
    "   - Аргументами функции должны быть данные теста, колонки с сегментами (маркетинг, гео и платформа), тест-фактор.\n",
    "   - Для каждого сегмента в функции агрегируй данные, посчитав по для каждой группы и сегмента количество пользователей.\n",
    "   - Сбрость индекс.\n",
    "   - Добавь в функцию построение столбиковой диаграммы (bar chart)."
   ]
  },
  {
   "cell_type": "code",
   "execution_count": 10,
   "metadata": {},
   "outputs": [],
   "source": [
    "# напиши здесь код\n",
    "def plot_segment_distribution(data, segment_columns, test_factor):\n",
    "    for segment in segment_columns:\n",
    "        aggregated_data = data.groupby(by = [test_factor, segment])['user_id'].count().reset_index()\n",
    "        sns.catplot(x = segment,\n",
    "                    y = 'user_id',\n",
    "                    data = aggregated_data,\n",
    "                    hue = test_factor,\n",
    "                    kind = 'bar',\n",
    "                    height = 5,\n",
    "                    aspect = 2)\n"
   ]
  },
  {
   "cell_type": "markdown",
   "metadata": {},
   "source": [
    "**3. Вызови функцию и посмотри на графики. Какой вывод о качестве сплитования ты можешь сделать?**\n",
    "    — Передай списком столбцы, в которых обозначены сегменты пользователей, и отдельно столбец с тест-фактором."
   ]
  },
  {
   "cell_type": "code",
   "execution_count": 11,
   "metadata": {},
   "outputs": [
    {
     "data": {
      "image/png": "[encoded data removed]",
      "text/plain": [
       "<Figure size 790.5x360 with 1 Axes>"
      ]
     },
     "metadata": {
      "needs_background": "light"
     },
     "output_type": "display_data"
    },
    {
     "data": {
      "image/png": "[encoded data removed]",
      "text/plain": [
       "<Figure size 790.5x360 with 1 Axes>"
      ]
     },
     "metadata": {
      "needs_background": "light"
     },
     "output_type": "display_data"
    },
    {
     "data": {
      "image/png": "[encoded data removed]",
      "text/plain": [
       "<Figure size 790.5x360 with 1 Axes>"
      ]
     },
     "metadata": {
      "needs_background": "light"
     },
     "output_type": "display_data"
    }
   ],
   "source": [
    "# напиши здесь код\n",
    "plot_segment_distribution(data,\n",
    "                         ['acquisition_channel', 'geo_group', 'platform'],\n",
    "                         'test_group')"
   ]
  },
  {
   "cell_type": "markdown",
   "metadata": {},
   "source": [
    "## Задание 3. Используй критерий Хи-квадрат для конверсии\n"
   ]
  },
  {
   "cell_type": "markdown",
   "metadata": {},
   "source": [
    "В прошлом задании ты, скорее всего, столкнулся с неравномерным распределением пользователей. Раньше мы просто перезапускали тест, чтобы собрать данные, но сейчас тест уже завершен, так что нам нужно анализировать те данные, которые есть. Мы не можем исправить данные, но можем проанализировать общие результаты и сравнить их с результатами для пользователей, зашедших с разных платформ, чтобы уменьшить риск принятия ошибочного решения. Поэтому дальше мы будем анализировать параллельно 3 теста:\n",
    "\n",
    "1. Все пользователи, попавшие в тест\n",
    "2. Пользователи, заходившие с ПК `platform = 'pc'`\n",
    "3. Пользователи, заходившие с мобильного `platform = 'mobile'`"
   ]
  },
  {
   "cell_type": "markdown",
   "metadata": {},
   "source": [
    "**Создай для каждой из 3 групп теста отдельную таблицу с метриками**\n",
    "   - общее количество пользователей \n",
    "   - количество покупок в окне конверсии\n",
    "   - средняя сумма покупки \n",
    "   - конверсия (количество покупок в окне конверсии / общее количество пользователей или среднее по полю `within_window`)\n",
    "    "
   ]
  },
  {
   "cell_type": "code",
   "execution_count": 12,
   "metadata": {
    "scrolled": true
   },
   "outputs": [
    {
     "data": {
      "text/html": [
       "<div>\n",
       "<style scoped>\n",
       "    .dataframe tbody tr th:only-of-type {\n",
       "        vertical-align: middle;\n",
       "    }\n",
       "\n",
       "    .dataframe tbody tr th {\n",
       "        vertical-align: top;\n",
       "    }\n",
       "\n",
       "    .dataframe thead th {\n",
       "        text-align: right;\n",
       "    }\n",
       "</style>\n",
       "<table border=\"1\" class=\"dataframe\">\n",
       "  <thead>\n",
       "    <tr style=\"text-align: right;\">\n",
       "      <th></th>\n",
       "      <th>user_id</th>\n",
       "      <th>test_group</th>\n",
       "      <th>purchase_amount</th>\n",
       "      <th>geo_group</th>\n",
       "      <th>acquisition_channel</th>\n",
       "      <th>within_window</th>\n",
       "      <th>platform</th>\n",
       "    </tr>\n",
       "  </thead>\n",
       "  <tbody>\n",
       "    <tr>\n",
       "      <th>1</th>\n",
       "      <td>3738</td>\n",
       "      <td>test</td>\n",
       "      <td>306.639511</td>\n",
       "      <td>regions</td>\n",
       "      <td>target_direct</td>\n",
       "      <td>1</td>\n",
       "      <td>pc</td>\n",
       "    </tr>\n",
       "    <tr>\n",
       "      <th>2</th>\n",
       "      <td>3755</td>\n",
       "      <td>control</td>\n",
       "      <td>NaN</td>\n",
       "      <td>regions</td>\n",
       "      <td>target_direct</td>\n",
       "      <td>0</td>\n",
       "      <td>pc</td>\n",
       "    </tr>\n",
       "    <tr>\n",
       "      <th>3</th>\n",
       "      <td>3772</td>\n",
       "      <td>test</td>\n",
       "      <td>NaN</td>\n",
       "      <td>regions</td>\n",
       "      <td>context_brand</td>\n",
       "      <td>0</td>\n",
       "      <td>mobile</td>\n",
       "    </tr>\n",
       "    <tr>\n",
       "      <th>4</th>\n",
       "      <td>3789</td>\n",
       "      <td>control</td>\n",
       "      <td>NaN</td>\n",
       "      <td>spb</td>\n",
       "      <td>target_direct</td>\n",
       "      <td>0</td>\n",
       "      <td>pc</td>\n",
       "    </tr>\n",
       "    <tr>\n",
       "      <th>5</th>\n",
       "      <td>3806</td>\n",
       "      <td>test</td>\n",
       "      <td>NaN</td>\n",
       "      <td>regions</td>\n",
       "      <td>social_media</td>\n",
       "      <td>0</td>\n",
       "      <td>pc</td>\n",
       "    </tr>\n",
       "    <tr>\n",
       "      <th>...</th>\n",
       "      <td>...</td>\n",
       "      <td>...</td>\n",
       "      <td>...</td>\n",
       "      <td>...</td>\n",
       "      <td>...</td>\n",
       "      <td>...</td>\n",
       "      <td>...</td>\n",
       "    </tr>\n",
       "    <tr>\n",
       "      <th>152995</th>\n",
       "      <td>2604636</td>\n",
       "      <td>test</td>\n",
       "      <td>NaN</td>\n",
       "      <td>regions</td>\n",
       "      <td>target_direct</td>\n",
       "      <td>0</td>\n",
       "      <td>pc</td>\n",
       "    </tr>\n",
       "    <tr>\n",
       "      <th>152996</th>\n",
       "      <td>2604653</td>\n",
       "      <td>control</td>\n",
       "      <td>5236.818309</td>\n",
       "      <td>regions</td>\n",
       "      <td>organic</td>\n",
       "      <td>1</td>\n",
       "      <td>mobile</td>\n",
       "    </tr>\n",
       "    <tr>\n",
       "      <th>152997</th>\n",
       "      <td>2604670</td>\n",
       "      <td>control</td>\n",
       "      <td>NaN</td>\n",
       "      <td>regions</td>\n",
       "      <td>target_direct</td>\n",
       "      <td>0</td>\n",
       "      <td>pc</td>\n",
       "    </tr>\n",
       "    <tr>\n",
       "      <th>152998</th>\n",
       "      <td>2604687</td>\n",
       "      <td>control</td>\n",
       "      <td>101.783032</td>\n",
       "      <td>regions</td>\n",
       "      <td>target_direct</td>\n",
       "      <td>1</td>\n",
       "      <td>pc</td>\n",
       "    </tr>\n",
       "    <tr>\n",
       "      <th>152999</th>\n",
       "      <td>2604704</td>\n",
       "      <td>test</td>\n",
       "      <td>NaN</td>\n",
       "      <td>msk</td>\n",
       "      <td>social_media</td>\n",
       "      <td>0</td>\n",
       "      <td>pc</td>\n",
       "    </tr>\n",
       "  </tbody>\n",
       "</table>\n",
       "<p>150483 rows × 7 columns</p>\n",
       "</div>"
      ],
      "text/plain": [
       "        user_id test_group  purchase_amount geo_group acquisition_channel  \\\n",
       "1          3738       test       306.639511   regions       target_direct   \n",
       "2          3755    control              NaN   regions       target_direct   \n",
       "3          3772       test              NaN   regions       context_brand   \n",
       "4          3789    control              NaN       spb       target_direct   \n",
       "5          3806       test              NaN   regions        social_media   \n",
       "...         ...        ...              ...       ...                 ...   \n",
       "152995  2604636       test              NaN   regions       target_direct   \n",
       "152996  2604653    control      5236.818309   regions             organic   \n",
       "152997  2604670    control              NaN   regions       target_direct   \n",
       "152998  2604687    control       101.783032   regions       target_direct   \n",
       "152999  2604704       test              NaN       msk        social_media   \n",
       "\n",
       "        within_window platform  \n",
       "1                   1       pc  \n",
       "2                   0       pc  \n",
       "3                   0   mobile  \n",
       "4                   0       pc  \n",
       "5                   0       pc  \n",
       "...               ...      ...  \n",
       "152995              0       pc  \n",
       "152996              1   mobile  \n",
       "152997              0       pc  \n",
       "152998              1       pc  \n",
       "152999              0       pc  \n",
       "\n",
       "[150483 rows x 7 columns]"
      ]
     },
     "execution_count": 12,
     "metadata": {},
     "output_type": "execute_result"
    }
   ],
   "source": [
    "data"
   ]
  },
  {
   "cell_type": "code",
   "execution_count": 120,
   "metadata": {},
   "outputs": [
    {
     "data": {
      "text/html": [
       "<div>\n",
       "<style scoped>\n",
       "    .dataframe tbody tr th:only-of-type {\n",
       "        vertical-align: middle;\n",
       "    }\n",
       "\n",
       "    .dataframe tbody tr th {\n",
       "        vertical-align: top;\n",
       "    }\n",
       "\n",
       "    .dataframe thead th {\n",
       "        text-align: right;\n",
       "    }\n",
       "</style>\n",
       "<table border=\"1\" class=\"dataframe\">\n",
       "  <thead>\n",
       "    <tr style=\"text-align: right;\">\n",
       "      <th></th>\n",
       "      <th>test_group</th>\n",
       "      <th>user_id</th>\n",
       "      <th>within_window</th>\n",
       "      <th>purchase_amount</th>\n",
       "      <th>conversion</th>\n",
       "    </tr>\n",
       "  </thead>\n",
       "  <tbody>\n",
       "    <tr>\n",
       "      <th>0</th>\n",
       "      <td>control</td>\n",
       "      <td>75210</td>\n",
       "      <td>22998</td>\n",
       "      <td>5170.864335</td>\n",
       "      <td>30.58</td>\n",
       "    </tr>\n",
       "    <tr>\n",
       "      <th>1</th>\n",
       "      <td>test</td>\n",
       "      <td>75273</td>\n",
       "      <td>24427</td>\n",
       "      <td>5394.771589</td>\n",
       "      <td>32.45</td>\n",
       "    </tr>\n",
       "  </tbody>\n",
       "</table>\n",
       "</div>"
      ],
      "text/plain": [
       "  test_group  user_id  within_window  purchase_amount  conversion\n",
       "0    control    75210          22998      5170.864335       30.58\n",
       "1       test    75273          24427      5394.771589       32.45"
      ]
     },
     "execution_count": 120,
     "metadata": {},
     "output_type": "execute_result"
    }
   ],
   "source": [
    "metrics = data.groupby('test_group').agg({'user_id':'count', 'within_window':'sum','purchase_amount':'mean'})\n",
    "metrics['conversion'] = round(metrics['within_window']/metrics['user_id']*100, 2)\n",
    "metrics.reset_index()"
   ]
  },
  {
   "cell_type": "code",
   "execution_count": 119,
   "metadata": {},
   "outputs": [
    {
     "data": {
      "text/html": [
       "<div>\n",
       "<style scoped>\n",
       "    .dataframe tbody tr th:only-of-type {\n",
       "        vertical-align: middle;\n",
       "    }\n",
       "\n",
       "    .dataframe tbody tr th {\n",
       "        vertical-align: top;\n",
       "    }\n",
       "\n",
       "    .dataframe thead th {\n",
       "        text-align: right;\n",
       "    }\n",
       "</style>\n",
       "<table border=\"1\" class=\"dataframe\">\n",
       "  <thead>\n",
       "    <tr style=\"text-align: right;\">\n",
       "      <th></th>\n",
       "      <th>user_id</th>\n",
       "      <th>test_group</th>\n",
       "      <th>purchase_amount</th>\n",
       "      <th>geo_group</th>\n",
       "      <th>acquisition_channel</th>\n",
       "      <th>within_window</th>\n",
       "      <th>platform</th>\n",
       "    </tr>\n",
       "  </thead>\n",
       "  <tbody>\n",
       "    <tr>\n",
       "      <th>1</th>\n",
       "      <td>3738</td>\n",
       "      <td>test</td>\n",
       "      <td>306.639511</td>\n",
       "      <td>regions</td>\n",
       "      <td>target_direct</td>\n",
       "      <td>1</td>\n",
       "      <td>pc</td>\n",
       "    </tr>\n",
       "    <tr>\n",
       "      <th>2</th>\n",
       "      <td>3755</td>\n",
       "      <td>control</td>\n",
       "      <td>NaN</td>\n",
       "      <td>regions</td>\n",
       "      <td>target_direct</td>\n",
       "      <td>0</td>\n",
       "      <td>pc</td>\n",
       "    </tr>\n",
       "    <tr>\n",
       "      <th>4</th>\n",
       "      <td>3789</td>\n",
       "      <td>control</td>\n",
       "      <td>NaN</td>\n",
       "      <td>spb</td>\n",
       "      <td>target_direct</td>\n",
       "      <td>0</td>\n",
       "      <td>pc</td>\n",
       "    </tr>\n",
       "    <tr>\n",
       "      <th>5</th>\n",
       "      <td>3806</td>\n",
       "      <td>test</td>\n",
       "      <td>NaN</td>\n",
       "      <td>regions</td>\n",
       "      <td>social_media</td>\n",
       "      <td>0</td>\n",
       "      <td>pc</td>\n",
       "    </tr>\n",
       "    <tr>\n",
       "      <th>6</th>\n",
       "      <td>3823</td>\n",
       "      <td>test</td>\n",
       "      <td>455.185867</td>\n",
       "      <td>regions</td>\n",
       "      <td>social_media</td>\n",
       "      <td>1</td>\n",
       "      <td>pc</td>\n",
       "    </tr>\n",
       "    <tr>\n",
       "      <th>...</th>\n",
       "      <td>...</td>\n",
       "      <td>...</td>\n",
       "      <td>...</td>\n",
       "      <td>...</td>\n",
       "      <td>...</td>\n",
       "      <td>...</td>\n",
       "      <td>...</td>\n",
       "    </tr>\n",
       "    <tr>\n",
       "      <th>152994</th>\n",
       "      <td>2604619</td>\n",
       "      <td>test</td>\n",
       "      <td>NaN</td>\n",
       "      <td>regions</td>\n",
       "      <td>target_direct</td>\n",
       "      <td>0</td>\n",
       "      <td>pc</td>\n",
       "    </tr>\n",
       "    <tr>\n",
       "      <th>152995</th>\n",
       "      <td>2604636</td>\n",
       "      <td>test</td>\n",
       "      <td>NaN</td>\n",
       "      <td>regions</td>\n",
       "      <td>target_direct</td>\n",
       "      <td>0</td>\n",
       "      <td>pc</td>\n",
       "    </tr>\n",
       "    <tr>\n",
       "      <th>152997</th>\n",
       "      <td>2604670</td>\n",
       "      <td>control</td>\n",
       "      <td>NaN</td>\n",
       "      <td>regions</td>\n",
       "      <td>target_direct</td>\n",
       "      <td>0</td>\n",
       "      <td>pc</td>\n",
       "    </tr>\n",
       "    <tr>\n",
       "      <th>152998</th>\n",
       "      <td>2604687</td>\n",
       "      <td>control</td>\n",
       "      <td>101.783032</td>\n",
       "      <td>regions</td>\n",
       "      <td>target_direct</td>\n",
       "      <td>1</td>\n",
       "      <td>pc</td>\n",
       "    </tr>\n",
       "    <tr>\n",
       "      <th>152999</th>\n",
       "      <td>2604704</td>\n",
       "      <td>test</td>\n",
       "      <td>NaN</td>\n",
       "      <td>msk</td>\n",
       "      <td>social_media</td>\n",
       "      <td>0</td>\n",
       "      <td>pc</td>\n",
       "    </tr>\n",
       "  </tbody>\n",
       "</table>\n",
       "<p>105429 rows × 7 columns</p>\n",
       "</div>"
      ],
      "text/plain": [
       "        user_id test_group  purchase_amount geo_group acquisition_channel  \\\n",
       "1          3738       test       306.639511   regions       target_direct   \n",
       "2          3755    control              NaN   regions       target_direct   \n",
       "4          3789    control              NaN       spb       target_direct   \n",
       "5          3806       test              NaN   regions        social_media   \n",
       "6          3823       test       455.185867   regions        social_media   \n",
       "...         ...        ...              ...       ...                 ...   \n",
       "152994  2604619       test              NaN   regions       target_direct   \n",
       "152995  2604636       test              NaN   regions       target_direct   \n",
       "152997  2604670    control              NaN   regions       target_direct   \n",
       "152998  2604687    control       101.783032   regions       target_direct   \n",
       "152999  2604704       test              NaN       msk        social_media   \n",
       "\n",
       "        within_window platform  \n",
       "1                   1       pc  \n",
       "2                   0       pc  \n",
       "4                   0       pc  \n",
       "5                   0       pc  \n",
       "6                   1       pc  \n",
       "...               ...      ...  \n",
       "152994              0       pc  \n",
       "152995              0       pc  \n",
       "152997              0       pc  \n",
       "152998              1       pc  \n",
       "152999              0       pc  \n",
       "\n",
       "[105429 rows x 7 columns]"
      ]
     },
     "execution_count": 119,
     "metadata": {},
     "output_type": "execute_result"
    }
   ],
   "source": [
    "metrics_pc = data.loc[data['platform'] == 'pc']\n",
    "metrics_pc"
   ]
  },
  {
   "cell_type": "code",
   "execution_count": 122,
   "metadata": {},
   "outputs": [
    {
     "data": {
      "text/html": [
       "<div>\n",
       "<style scoped>\n",
       "    .dataframe tbody tr th:only-of-type {\n",
       "        vertical-align: middle;\n",
       "    }\n",
       "\n",
       "    .dataframe tbody tr th {\n",
       "        vertical-align: top;\n",
       "    }\n",
       "\n",
       "    .dataframe thead th {\n",
       "        text-align: right;\n",
       "    }\n",
       "</style>\n",
       "<table border=\"1\" class=\"dataframe\">\n",
       "  <thead>\n",
       "    <tr style=\"text-align: right;\">\n",
       "      <th></th>\n",
       "      <th>test_group</th>\n",
       "      <th>user_id</th>\n",
       "      <th>within_window</th>\n",
       "      <th>purchase_amount</th>\n",
       "      <th>conversion</th>\n",
       "    </tr>\n",
       "  </thead>\n",
       "  <tbody>\n",
       "    <tr>\n",
       "      <th>0</th>\n",
       "      <td>control</td>\n",
       "      <td>45112</td>\n",
       "      <td>13732</td>\n",
       "      <td>5200.121803</td>\n",
       "      <td>30.44</td>\n",
       "    </tr>\n",
       "    <tr>\n",
       "      <th>1</th>\n",
       "      <td>test</td>\n",
       "      <td>60317</td>\n",
       "      <td>19659</td>\n",
       "      <td>5401.003720</td>\n",
       "      <td>32.59</td>\n",
       "    </tr>\n",
       "  </tbody>\n",
       "</table>\n",
       "</div>"
      ],
      "text/plain": [
       "  test_group  user_id  within_window  purchase_amount  conversion\n",
       "0    control    45112          13732      5200.121803       30.44\n",
       "1       test    60317          19659      5401.003720       32.59"
      ]
     },
     "execution_count": 122,
     "metadata": {},
     "output_type": "execute_result"
    }
   ],
   "source": [
    "new_metrics_pc = metrics_pc.groupby('test_group').agg({'user_id':'count', 'within_window':'sum','purchase_amount':'mean'})\n",
    "new_metrics_pc['conversion'] = round(new_metrics_pc['within_window']/new_metrics_pc['user_id']*100, 2)\n",
    "new_metrics_pc.reset_index()"
   ]
  },
  {
   "cell_type": "code",
   "execution_count": 73,
   "metadata": {
    "scrolled": true
   },
   "outputs": [],
   "source": [
    "metrics_mobile = data.loc[data['platform'] == 'mobile']\n",
    "#metrics_mobile"
   ]
  },
  {
   "cell_type": "code",
   "execution_count": 123,
   "metadata": {},
   "outputs": [
    {
     "data": {
      "text/html": [
       "<div>\n",
       "<style scoped>\n",
       "    .dataframe tbody tr th:only-of-type {\n",
       "        vertical-align: middle;\n",
       "    }\n",
       "\n",
       "    .dataframe tbody tr th {\n",
       "        vertical-align: top;\n",
       "    }\n",
       "\n",
       "    .dataframe thead th {\n",
       "        text-align: right;\n",
       "    }\n",
       "</style>\n",
       "<table border=\"1\" class=\"dataframe\">\n",
       "  <thead>\n",
       "    <tr style=\"text-align: right;\">\n",
       "      <th></th>\n",
       "      <th>test_group</th>\n",
       "      <th>user_id</th>\n",
       "      <th>within_window</th>\n",
       "      <th>purchase_amount</th>\n",
       "      <th>conversion</th>\n",
       "    </tr>\n",
       "  </thead>\n",
       "  <tbody>\n",
       "    <tr>\n",
       "      <th>0</th>\n",
       "      <td>control</td>\n",
       "      <td>30098</td>\n",
       "      <td>9266</td>\n",
       "      <td>5127.505438</td>\n",
       "      <td>30.79</td>\n",
       "    </tr>\n",
       "    <tr>\n",
       "      <th>1</th>\n",
       "      <td>test</td>\n",
       "      <td>14956</td>\n",
       "      <td>4768</td>\n",
       "      <td>5369.075812</td>\n",
       "      <td>31.88</td>\n",
       "    </tr>\n",
       "  </tbody>\n",
       "</table>\n",
       "</div>"
      ],
      "text/plain": [
       "  test_group  user_id  within_window  purchase_amount  conversion\n",
       "0    control    30098           9266      5127.505438       30.79\n",
       "1       test    14956           4768      5369.075812       31.88"
      ]
     },
     "execution_count": 123,
     "metadata": {},
     "output_type": "execute_result"
    }
   ],
   "source": [
    "new_metrics_mobile = metrics_mobile.groupby('test_group').agg({'user_id':'count', 'within_window':'sum', 'purchase_amount':'mean'})\n",
    "new_metrics_mobile['conversion'] = round(new_metrics_mobile['within_window']/new_metrics_mobile['user_id']*100, 2)\n",
    "new_metrics_mobile.reset_index()"
   ]
  },
  {
   "cell_type": "markdown",
   "metadata": {},
   "source": [
    "**1. Вычисли** `p-value` **для каждой группы с помощью теста хи-квадрат**\n",
    "\n",
    "   - Импортируй библиотеку `statsmodels` и используй функцию `proportions_chisquare` из нее\n",
    "   - Результат работы функции `proportions_chisquare` присвой трем переменным для каждой группы\n"
   ]
  },
  {
   "cell_type": "code",
   "execution_count": 25,
   "metadata": {},
   "outputs": [],
   "source": [
    "import statsmodels.stats.proportion as proportion"
   ]
  },
  {
   "cell_type": "code",
   "execution_count": 33,
   "metadata": {},
   "outputs": [],
   "source": [
    "chi2stat, pval, table = proportion.proportions_chisquare(metrics['within_window'], metrics['user_id'])"
   ]
  },
  {
   "cell_type": "code",
   "execution_count": 34,
   "metadata": {},
   "outputs": [],
   "source": [
    "chi2stat_pc, pval_pc, table_pc = proportion.proportions_chisquare(new_metrics_pc['within_window'], new_metrics_pc['user_id'])"
   ]
  },
  {
   "cell_type": "code",
   "execution_count": 35,
   "metadata": {},
   "outputs": [],
   "source": [
    "chi2stat_mobile, pval_mobile, table_mobile = proportion.proportions_chisquare(new_metrics_mobile['within_window'], new_metrics_mobile['user_id'])"
   ]
  },
  {
   "cell_type": "markdown",
   "metadata": {},
   "source": [
    "**2. Введи в анализ уровень значимости в 5% с помощью переменной** `alpha`.\n"
   ]
  },
  {
   "cell_type": "code",
   "execution_count": 37,
   "metadata": {},
   "outputs": [
    {
     "name": "stdout",
     "output_type": "stream",
     "text": [
      "5.321539863368111e-15 True\n"
     ]
    }
   ],
   "source": [
    "alpha = 0.05\n",
    "print(pval, pval < alpha)"
   ]
  },
  {
   "cell_type": "code",
   "execution_count": 38,
   "metadata": {},
   "outputs": [
    {
     "name": "stdout",
     "output_type": "stream",
     "text": [
      "1.0436637877855105e-13 True\n"
     ]
    }
   ],
   "source": [
    "print(pval_pc, pval_pc < alpha)"
   ]
  },
  {
   "cell_type": "code",
   "execution_count": 39,
   "metadata": {
    "scrolled": true
   },
   "outputs": [
    {
     "name": "stdout",
     "output_type": "stream",
     "text": [
      "0.018202784051985058 True\n"
     ]
    }
   ],
   "source": [
    "print(pval_mobile, pval_mobile < alpha)"
   ]
  },
  {
   "cell_type": "markdown",
   "metadata": {},
   "source": [
    "Значение pval для всех трех групп меньше чем порог ошибки первого рода, поэтому резулультаты по ним можно считать статистически значимыми. Я думаю что можем откинуть нулевую гипотезу."
   ]
  },
  {
   "cell_type": "markdown",
   "metadata": {},
   "source": [
    "## Задание 4. Вычисли мощность теста\n",
    "\n",
    "1. Импортируй объект `stats.power` из библиотеки `statsmodels`\n",
    "2. Присвой функцию `GofChisquarePower()` из этой библиотеки в переменную `chipower` \n",
    "3. Реализуй функцию для подсчета `effect_size`"
   ]
  },
  {
   "cell_type": "code",
   "execution_count": 40,
   "metadata": {},
   "outputs": [],
   "source": [
    "import statsmodels.stats.power as smp"
   ]
  },
  {
   "cell_type": "code",
   "execution_count": 41,
   "metadata": {},
   "outputs": [],
   "source": [
    "chipower = smp.GofChisquarePower()"
   ]
  },
  {
   "cell_type": "code",
   "execution_count": null,
   "metadata": {},
   "outputs": [],
   "source": []
  },
  {
   "cell_type": "markdown",
   "metadata": {},
   "source": [
    "`effect_size` — это та самая наблюдаемая разница между двумя вариантами. Вычисляется следующим образом: \n",
    "\n",
    "$$ES = \\sqrt{(p_0 - p_1)^2/p_o}$$\n",
    "\n",
    ", где под $p_0$ можно понимать конверсию в контрольной группе, а $p_1$ — тестовой"
   ]
  },
  {
   "cell_type": "code",
   "execution_count": 47,
   "metadata": {},
   "outputs": [],
   "source": [
    "def chi2_effect_size(p0, p1):\n",
    "    return np.sqrt(((p0 - p1)**2 / p0))"
   ]
  },
  {
   "cell_type": "markdown",
   "metadata": {},
   "source": [
    "4. Запиши значения конверсии в тестовой `conversion_test` и контрольной `conversion_control` группы в разные переменные\n",
    "      \n",
    "5. Создай переменную nobs для количества наблюдений и запиши в нее значение меньшей группы"
   ]
  },
  {
   "cell_type": "code",
   "execution_count": 91,
   "metadata": {},
   "outputs": [],
   "source": [
    "conversion_control = metrics['conversion'].values[0]/100\n",
    "conversion_test = metrics['conversion'].values[1]/100\n",
    "nobs = min(metrics['user_id'])"
   ]
  },
  {
   "cell_type": "code",
   "execution_count": 49,
   "metadata": {},
   "outputs": [],
   "source": [
    "conversion_control_mobile = new_metrics_mobile['conversion'].values[0]/100\n",
    "conversion_test_mobile = new_metrics_mobile['conversion'].values[1]/100\n",
    "nobs_mobile = min(new_metrics_mobile['user_id'])"
   ]
  },
  {
   "cell_type": "code",
   "execution_count": 50,
   "metadata": {},
   "outputs": [],
   "source": [
    "conversion_control_pc = new_metrics_pc['conversion'].values[0]/100\n",
    "conversion_test_pc = new_metrics_pc['conversion'].values[1]/100\n",
    "nobs_pc = min(new_metrics_pc['user_id'])"
   ]
  },
  {
   "cell_type": "markdown",
   "metadata": {},
   "source": [
    "**6. Вызови функцию .solve_power и передай ей в аргументы** \n",
    "    - effect_size\n",
    "    - количество наблюдений меньшей группы\n",
    "    - значение p-value\n",
    "    - мощности присвой значение None\n",
    "    \n",
    "**7. Сделай анализ мощности для каждого сегмента, для которого делали тест хи-квадрат.**\n",
    "\n",
    "Оставь комментарий, как ты оцениваешь мощность этого теста? Можно ли на основе таких показателей делать выводы?\n"
   ]
  },
  {
   "cell_type": "code",
   "execution_count": 56,
   "metadata": {},
   "outputs": [
    {
     "data": {
      "text/plain": [
       "0.9271367916086642"
      ]
     },
     "execution_count": 56,
     "metadata": {},
     "output_type": "execute_result"
    }
   ],
   "source": [
    "power = chipower.solve_power(effect_size = chi2_effect_size(conversion_control, conversion_test),\n",
    "                            nobs = nobs,\n",
    "                            alpha = pval,\n",
    "                            power = None)\n",
    "power"
   ]
  },
  {
   "cell_type": "code",
   "execution_count": 57,
   "metadata": {},
   "outputs": [
    {
     "data": {
      "text/plain": [
       "0.51629109023244"
      ]
     },
     "execution_count": 57,
     "metadata": {},
     "output_type": "execute_result"
    }
   ],
   "source": [
    "mobile_power = chipower.solve_power(effect_size = chi2_effect_size(conversion_control_mobile, conversion_test_mobile),\n",
    "                            nobs = nobs_mobile,\n",
    "                            alpha = pval_mobile,\n",
    "                            power = None)\n",
    "mobile_power"
   ]
  },
  {
   "cell_type": "code",
   "execution_count": 58,
   "metadata": {},
   "outputs": [
    {
     "data": {
      "text/plain": [
       "0.79997711974453"
      ]
     },
     "execution_count": 58,
     "metadata": {},
     "output_type": "execute_result"
    }
   ],
   "source": [
    "pc_power = chipower.solve_power(effect_size = chi2_effect_size(conversion_control_pc, conversion_test_pc),\n",
    "                            nobs = nobs_pc,\n",
    "                            alpha = pval_pc,\n",
    "                            power = None)\n",
    "pc_power"
   ]
  },
  {
   "cell_type": "markdown",
   "metadata": {},
   "source": [
    "Исходя из результатов мы видим что для общей и мобильной групп мощность имеет значение превышающее стандартное. Соответственно с вероятностью посчитанной для этих групп, мы бы увидели статистически значимые отличия. Мощность для мобильной группы достаточно низкая чтобы мы с вероятностью 10% увидели статистически значимые отличия."
   ]
  },
  {
   "cell_type": "markdown",
   "metadata": {},
   "source": [
    "## Задание 5. Воспользуйся бутстрапом для оценки влияния теста на средний чек"
   ]
  },
  {
   "cell_type": "markdown",
   "metadata": {},
   "source": [
    "**1. Сделай бутстрап среднего чека для тестовой и контрольной выборок, визуализируй результат. Какие выводы можно сделать?**\n",
    "   - загрузи нужные модули из библиотеки `bootstrapped`\n",
    "   - для сегментов, которые мы анализируем отдельно, создай переменную со значением среднего чека"
   ]
  },
  {
   "cell_type": "code",
   "execution_count": 60,
   "metadata": {},
   "outputs": [],
   "source": [
    "# импортируем необходимые модули\n",
    "import bootstrapped.bootstrap as bs\n",
    "import bootstrapped.stats_functions as bs_stats\n",
    "import bootstrapped.compare_functions as bs_compare\n",
    "import numpy as np"
   ]
  },
  {
   "cell_type": "code",
   "execution_count": 126,
   "metadata": {},
   "outputs": [],
   "source": [
    "#metrics\n",
    "#new_metrics_pc"
   ]
  },
  {
   "cell_type": "code",
   "execution_count": 138,
   "metadata": {},
   "outputs": [],
   "source": [
    "test = data[data['test_group'] == 'test']['purchase_amount'].dropna().values\n",
    "control = data[data['test_group'] == 'control']['purchase_amount'].dropna().values\n",
    "test_pc = metrics_pc[metrics_pc['test_group'] == 'test']['purchase_amount'].dropna().values\n",
    "control_pc = metrics_pc[metrics_pc['test_group'] == 'control']['purchase_amount'].dropna().values\n",
    "test_mobile = metrics_mobile[metrics_mobile['test_group'] == 'test']['purchase_amount'].dropna().values\n",
    "control_mobile = metrics_mobile[metrics_mobile['test_group'] == 'control']['purchase_amount'].dropna().values"
   ]
  },
  {
   "cell_type": "markdown",
   "metadata": {},
   "source": [
    "**2. Вызови функцию `bootstrap_ab` для каждого сегмента, передай ей нужные аргументы**\n",
    "   - `test = `\n",
    "   - `ctrl = `\n",
    "   - `stat_func = bs_stats.mean`\n",
    "   - `compare_func = bs_compare.difference`\n",
    "   - `return_distribution = True`"
   ]
  },
  {
   "cell_type": "code",
   "execution_count": 139,
   "metadata": {},
   "outputs": [],
   "source": [
    "boot = bs.bootstrap_ab(test = test, ctrl = control, \n",
    "                       stat_func = bs_stats.mean, \n",
    "                       compare_func = bs_compare.difference, \n",
    "                       return_distribution = True)"
   ]
  },
  {
   "cell_type": "code",
   "execution_count": 140,
   "metadata": {},
   "outputs": [],
   "source": [
    "boot_pc = boot = bs.bootstrap_ab(test = test_pc, ctrl = control_pc, \n",
    "                       stat_func = bs_stats.mean, \n",
    "                       compare_func = bs_compare.difference, \n",
    "                       return_distribution = True)"
   ]
  },
  {
   "cell_type": "code",
   "execution_count": 141,
   "metadata": {},
   "outputs": [],
   "source": [
    "boot_mobile = bs.bootstrap_ab(test = test_mobile, ctrl = control_mobile, \n",
    "                       stat_func = bs_stats.mean, \n",
    "                       compare_func = bs_compare.difference, \n",
    "                       return_distribution = True)"
   ]
  },
  {
   "cell_type": "markdown",
   "metadata": {},
   "source": [
    "**3. Задай размер доверительного интервала для каждого исследуемого сегмента 95% с помощью перцентилей**"
   ]
  },
  {
   "cell_type": "code",
   "execution_count": 142,
   "metadata": {},
   "outputs": [],
   "source": [
    "borders = np.percentile(boot, [2.5, 97.5])\n",
    "borders_pc = np.percentile(boot_pc, [2.5, 97.5])\n",
    "borders_mobile = np.percentile(boot_mobile, [2.5, 97.5])"
   ]
  },
  {
   "cell_type": "markdown",
   "metadata": {},
   "source": [
    "**4. Оцени, есть ли статистически значимое изменение по среднему чеку в каждом сегменте**\n",
    "\n",
    "   - Построй гистограмму распределения значений среднего чека.\n",
    "   - Выведи границы доверительного интервала линиями.\n",
    "   - Выведи ноль красной линией.\n",
    "   - Оставь комментарий, есть ли статистически значимое изменение по среднему чеку в каждом сегменте.\n",
    "   "
   ]
  },
  {
   "cell_type": "code",
   "execution_count": 145,
   "metadata": {},
   "outputs": [
    {
     "name": "stderr",
     "output_type": "stream",
     "text": [
      "C:\\Users\\Roman\\anaconda3\\lib\\site-packages\\seaborn\\distributions.py:2551: FutureWarning: `distplot` is a deprecated function and will be removed in a future version. Please adapt your code to use either `displot` (a figure-level function with similar flexibility) or `histplot` (an axes-level function for histograms).\n",
      "  warnings.warn(msg, FutureWarning)\n"
     ]
    },
    {
     "data": {
      "image/png": "[encoded data removed]",
      "text/plain": [
       "<Figure size 864x504 with 1 Axes>"
      ]
     },
     "metadata": {
      "needs_background": "light"
     },
     "output_type": "display_data"
    }
   ],
   "source": [
    "sns.distplot(boot) \n",
    "plt.title('Bootstrap-распределение разниц среднего чека для всех платформ')\n",
    "plt.rcParams[\"figure.figsize\"] = (12, 7)\n",
    "plt.vlines(0, # отрисуем линию на уровне ноля\n",
    "           ymin = 0, \n",
    "           ymax = 0.008, \n",
    "           linestyles= '-', \n",
    "           colors = 'red')\n",
    "plt.vlines(borders, # отрисуем перцентили\n",
    "           ymin = 0, \n",
    "           ymax = 0.008, \n",
    "           linestyles= '--', \n",
    "           colors = 'k', \n",
    "           label = '95%-доверительный интервал')\n",
    "plt.legend()\n",
    "plt.show()"
   ]
  },
  {
   "cell_type": "code",
   "execution_count": 149,
   "metadata": {},
   "outputs": [
    {
     "name": "stderr",
     "output_type": "stream",
     "text": [
      "C:\\Users\\Roman\\anaconda3\\lib\\site-packages\\seaborn\\distributions.py:2551: FutureWarning: `distplot` is a deprecated function and will be removed in a future version. Please adapt your code to use either `displot` (a figure-level function with similar flexibility) or `histplot` (an axes-level function for histograms).\n",
      "  warnings.warn(msg, FutureWarning)\n"
     ]
    },
    {
     "data": {
      "image/png": "[encoded data removed]",
      "text/plain": [
       "<Figure size 864x504 with 1 Axes>"
      ]
     },
     "metadata": {
      "needs_background": "light"
     },
     "output_type": "display_data"
    }
   ],
   "source": [
    "sns.distplot(boot_pc)\n",
    "plt.title('Bootstrap-распределение разниц среднего чека для пользователей pc')\n",
    "plt.rcParams[\"figure.figsize\"] = (12, 7)\n",
    "plt.vlines(0,\n",
    "           ymin = 0, \n",
    "           ymax = 0.008, \n",
    "           linestyles= '-', \n",
    "           colors = 'red')\n",
    "plt.vlines(borders_pc,\n",
    "           ymin = 0, \n",
    "           ymax = 0.008, \n",
    "           linestyles= '--', \n",
    "           colors = 'k', \n",
    "           label = '95%-доверительный интервал')\n",
    "plt.legend()\n",
    "plt.show()"
   ]
  },
  {
   "cell_type": "code",
   "execution_count": 150,
   "metadata": {},
   "outputs": [
    {
     "name": "stderr",
     "output_type": "stream",
     "text": [
      "C:\\Users\\Roman\\anaconda3\\lib\\site-packages\\seaborn\\distributions.py:2551: FutureWarning: `distplot` is a deprecated function and will be removed in a future version. Please adapt your code to use either `displot` (a figure-level function with similar flexibility) or `histplot` (an axes-level function for histograms).\n",
      "  warnings.warn(msg, FutureWarning)\n"
     ]
    },
    {
     "data": {
      "image/png": "[encoded data removed]",
      "text/plain": [
       "<Figure size 864x504 with 1 Axes>"
      ]
     },
     "metadata": {
      "needs_background": "light"
     },
     "output_type": "display_data"
    }
   ],
   "source": [
    "sns.distplot(boot_mobile)\n",
    "plt.title('Bootstrap-распределение разниц среднего чека для пользователей mobole')\n",
    "plt.rcParams[\"figure.figsize\"] = (12, 7)\n",
    "plt.vlines(0,\n",
    "           ymin = 0, \n",
    "           ymax = 0.005, \n",
    "           linestyles= '-', \n",
    "           colors = 'red')\n",
    "plt.vlines(borders_mobile,\n",
    "           ymin = 0, \n",
    "           ymax = 0.005, \n",
    "           linestyles= '--', \n",
    "           colors = 'k', \n",
    "           label = '95%-доверительный интервал')\n",
    "plt.legend()\n",
    "plt.show()"
   ]
  },
  {
   "cell_type": "markdown",
   "metadata": {},
   "source": [
    "## Задание 6. Сделай вывод по результатам проведенного теста (заданий 2–5)\n",
    "\n",
    "Нужно ли внедрять изменение каталога? Почему?"
   ]
  },
  {
   "cell_type": "code",
   "execution_count": null,
   "metadata": {},
   "outputs": [],
   "source": [
    "Проведя анализ нашего теста, можем сказать что для пользователей pc и mobile мы можем с полной уверенностью внедрять\n",
    "изменения каталога. Мощность теста в группе достаточно велика 79%, а в группе mobile ниже - 51%. Показатели графика boot_pc\n",
    "говорят о том что разница в тестовой и контрольной группах достаточно велика чтобы считать результат \n",
    "статистически значимым, как и на графике boot_mobile."
   ]
  },
  {
   "cell_type": "markdown",
   "metadata": {},
   "source": [
    "# 🎉🎉🎉 Поздравляем, ты великолепен! "
   ]
  }
 ],
 "metadata": {
  "colab": {
   "name": "Skills_Python_2.1_lesson.ipynb",
   "provenance": []
  },
  "kernelspec": {
   "display_name": "Python 3",
   "language": "python",
   "name": "python3"
  },
  "language_info": {
   "codemirror_mode": {
    "name": "ipython",
    "version": 3
   },
   "file_extension": ".py",
   "mimetype": "text/x-python",
   "name": "python",
   "nbconvert_exporter": "python",
   "pygments_lexer": "ipython3",
   "version": "3.8.5"
  }
 },
 "nbformat": 4,
 "nbformat_minor": 4
}
